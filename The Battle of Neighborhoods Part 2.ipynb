{
 "cells": [
  {
   "cell_type": "markdown",
   "metadata": {
    "collapsed": true
   },
   "source": [
    "# The Battle of Neighborhoods."
   ]
  },
  {
   "cell_type": "markdown",
   "metadata": {},
   "source": [
    "### \"Entering international palates\""
   ]
  },
  {
   "cell_type": "markdown",
   "metadata": {},
   "source": [
    "### Introduction "
   ]
  },
  {
   "cell_type": "markdown",
   "metadata": {},
   "source": [
    "A restaurant chain wants to enter new markets, based on its history, the restaurant chain has been in the local market for 20 years and has around 150 franchises distributed throughout the local territory, mainly in major cities. As part of the internalization strategy, investors want to assess the risks and their chances of success in this new adventure.\n",
    "As such, investors hire the services of a marketing consulting firm to respond to their requirements (risk assessment, probability of success, product acceptance in the market, among others). As part of the restaurant chain's requirement, they want to reach the US market first in one of its most important cities, New York, mainly in Manhattan.\n",
    "From the consultant's perspective, part of the requested research requires knowing the main neighborhoods to conduct the requested market study, this work is the first phase of the research \"Entering international palates\"."
   ]
  },
  {
   "cell_type": "markdown",
   "metadata": {},
   "source": [
    "### Business Problem"
   ]
  },
  {
   "cell_type": "markdown",
   "metadata": {},
   "source": [
    "Manhattan is an island located at the mouth of the Hudson River in northern New York Harbor and is also one of five districts that are part of New York City, United States.\n",
    "\n",
    "90% of New York's attractions are concentrated in Manhattan. In this area you will find the incomparable Empire State Bulding, the Rockefeller Center complex, the amazing Chrysler Building, the fascinating Times Square, the controversial MoMA and many other essential visits.\n",
    "\n",
    "The consultant does not know the different types of business and the destruction of these in the different neighborhoods of the city to develop studies of competition and business at the end, therefore, the following initial question is developed to have a starting point and use efficiently the resources directed to certain segments."
   ]
  },
  {
   "cell_type": "markdown",
   "metadata": {},
   "source": [
    "**Problem.** How are the different types of businesses distributed in the city's neighborhoods to guide market research on the most important ones based on the distribution of places or commercial businesses?"
   ]
  },
  {
   "cell_type": "markdown",
   "metadata": {},
   "source": [
    "**Stakeholders of the Project.** The stakeholders of the project are:\n",
    "- The investors of the restaurant chain, the objective of these is profitability.\n",
    "- The collaborators that belong to the project, the objective of these is the success of the project."
   ]
  },
  {
   "cell_type": "markdown",
   "metadata": {},
   "source": [
    "### Data"
   ]
  },
  {
   "cell_type": "markdown",
   "metadata": {},
   "source": [
    "Under the following premises, we have that as part of the initial stage of the marketing project, the different shops or businesses within 500 meters will be considered, as this gives the district some attractiveness compared to others.\n",
    "\n",
    "Based on the defined problem, we identified the following data sources:\n",
    "\n",
    "- The commercial businesses of the different Manhattan neighborhoods will be obtained from the Foursquare API: [link text] https://es.foursquare.com/ [link text]\n",
    "\n",
    "- As part of obtaining the data mentioned above, we have to obtain the coordinates of the neighborhoods for them we will use the following source: [link text] https://geo.nyu.edu/catalog/nyu_2451_34572 [link text] \n"
   ]
  },
  {
   "cell_type": "code",
   "execution_count": null,
   "metadata": {},
   "outputs": [],
   "source": []
  }
 ],
 "metadata": {
  "kernelspec": {
   "display_name": "Python 3.6",
   "language": "python",
   "name": "python3"
  },
  "language_info": {
   "codemirror_mode": {
    "name": "ipython",
    "version": 3
   },
   "file_extension": ".py",
   "mimetype": "text/x-python",
   "name": "python",
   "nbconvert_exporter": "python",
   "pygments_lexer": "ipython3",
   "version": "3.6.9"
  }
 },
 "nbformat": 4,
 "nbformat_minor": 1
}
