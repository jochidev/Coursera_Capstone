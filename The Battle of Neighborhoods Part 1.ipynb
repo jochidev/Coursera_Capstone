{
 "cells": [
  {
   "cell_type": "markdown",
   "metadata": {
    "collapsed": true
   },
   "source": [
    "# The Battle of Neighborhoods."
   ]
  },
  {
   "cell_type": "markdown",
   "metadata": {},
   "source": [
    "### \"Entering international palates\""
   ]
  },
  {
   "cell_type": "markdown",
   "metadata": {},
   "source": [
    "### Introduction "
   ]
  },
  {
   "cell_type": "markdown",
   "metadata": {},
   "source": [
    "<font size=4>\n",
    "A restaurant chain wants to enter new markets, based on its history, the restaurant chain has been in the local market for 20 years and has around 150 franchises distributed throughout the local territory, mainly in major cities. As part of the internalization strategy, investors want to assess the risks and their chances of success in this new adventure.\n",
    "As such, investors hire the services of a marketing consulting firm to respond to their requirements (risk assessment, probability of success, product acceptance in the market, among others). As part of the restaurant chain's requirement, they want to reach the US market first in one of its most important cities, New York, mainly in Manhattan.\n",
    "From the consultant's perspective, part of the requested research requires knowing the main neighborhoods to conduct the requested market study, this work is the first phase of the research \"Entering international palates\".\n",
    "</font>"
   ]
  },
  {
   "cell_type": "markdown",
   "metadata": {},
   "source": [
    "### Business Problem"
   ]
  },
  {
   "cell_type": "markdown",
   "metadata": {},
   "source": [
    "<font size=4>\n",
    "Manhattan is an island located at the mouth of the Hudson River in northern New York Harbor and is also one of five districts that are part of New York City, United States.<br><br>\n",
    "90% of New York's attractions are concentrated in Manhattan. In this area you will find the incomparable Empire State Bulding, the Rockefeller Center complex, the amazing Chrysler Building, the fascinating Times Square, the controversial MoMA and many other essential visits.<br><br>\n",
    "The consultant does not know the different types of business and the destruction of these in the different neighborhoods of the city to develop studies of competition and business at the end, therefore, the following initial question is developed to have a starting point and use efficiently the resources directed to certain segments.<br><br>\n",
    "</font>"
   ]
  },
  {
   "cell_type": "markdown",
   "metadata": {},
   "source": [
    "**<font size=4>Problem.</font>** <font size=4>How are the different types of businesses distributed in the city's neighborhoods to guide market research on the most important ones based on the distribution of places or commercial businesses?\n",
    "</font>"
   ]
  },
  {
   "cell_type": "markdown",
   "metadata": {},
   "source": [
    "**<font size=4>Stakeholders of the Project.</font>** <font size=4>The stakeholders of the project are:</font>\n",
    "<ul>\n",
    "    <li><font size=4>The investors of the restaurant chain, the objective of these is profitability.</font></li>\n",
    "    <li><font size=4>The collaborators that belong to the project, the objective of these is the success of the project.</font></li>\n",
    "</ul>"
   ]
  },
  {
   "cell_type": "code",
   "execution_count": null,
   "metadata": {},
   "outputs": [],
   "source": []
  }
 ],
 "metadata": {
  "kernelspec": {
   "display_name": "Python 3.6",
   "language": "python",
   "name": "python3"
  },
  "language_info": {
   "codemirror_mode": {
    "name": "ipython",
    "version": 3
   },
   "file_extension": ".py",
   "mimetype": "text/x-python",
   "name": "python",
   "nbconvert_exporter": "python",
   "pygments_lexer": "ipython3",
   "version": "3.6.9"
  }
 },
 "nbformat": 4,
 "nbformat_minor": 1
}
